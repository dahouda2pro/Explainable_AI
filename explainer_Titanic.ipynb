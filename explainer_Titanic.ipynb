{
 "cells": [
  {
   "cell_type": "markdown",
   "metadata": {},
   "source": [
    "# 1.Install explainer Dashboard package"
   ]
  },
  {
   "cell_type": "code",
   "execution_count": 1,
   "metadata": {},
   "outputs": [
    {
     "name": "stdout",
     "output_type": "stream",
     "text": [
      "Requirement already satisfied: explainerdashboard in c:\\users\\mwamba\\anaconda3\\envs\\style_env_4\\lib\\site-packages (0.4.0)\n",
      "Requirement already satisfied: oyaml in c:\\users\\mwamba\\anaconda3\\envs\\style_env_4\\lib\\site-packages (from explainerdashboard) (1.0)\n",
      "Requirement already satisfied: numpy in c:\\users\\mwamba\\anaconda3\\envs\\style_env_4\\lib\\site-packages (from explainerdashboard) (1.23.1)\n",
      "Requirement already satisfied: shap>=0.37 in c:\\users\\mwamba\\anaconda3\\envs\\style_env_4\\lib\\site-packages (from explainerdashboard) (0.41.0)\n",
      "Requirement already satisfied: waitress in c:\\users\\mwamba\\anaconda3\\envs\\style_env_4\\lib\\site-packages (from explainerdashboard) (2.1.2)\n",
      "Requirement already satisfied: flask-simplelogin in c:\\users\\mwamba\\anaconda3\\envs\\style_env_4\\lib\\site-packages (from explainerdashboard) (0.1.1)\n",
      "Requirement already satisfied: dash>=2.3.1 in c:\\users\\mwamba\\anaconda3\\envs\\style_env_4\\lib\\site-packages (from explainerdashboard) (2.7.0)\n",
      "Requirement already satisfied: dash-auth in c:\\users\\mwamba\\anaconda3\\envs\\style_env_4\\lib\\site-packages (from explainerdashboard) (1.4.1)\n",
      "Requirement already satisfied: dash-bootstrap-components>=1 in c:\\users\\mwamba\\anaconda3\\envs\\style_env_4\\lib\\site-packages (from explainerdashboard) (1.2.1)\n",
      "Requirement already satisfied: scikit-learn>=1.1 in c:\\users\\mwamba\\anaconda3\\envs\\style_env_4\\lib\\site-packages (from explainerdashboard) (1.1.1)\n",
      "Requirement already satisfied: pandas>=1.1 in c:\\users\\mwamba\\anaconda3\\envs\\style_env_4\\lib\\site-packages (from explainerdashboard) (1.2.5)\n",
      "Requirement already satisfied: graphviz>=0.18.2 in c:\\users\\mwamba\\anaconda3\\envs\\style_env_4\\lib\\site-packages (from explainerdashboard) (0.20)\n",
      "Requirement already satisfied: click in c:\\users\\mwamba\\anaconda3\\envs\\style_env_4\\lib\\site-packages (from explainerdashboard) (8.1.3)\n",
      "Requirement already satisfied: dtreeviz>=1.3 in c:\\users\\mwamba\\anaconda3\\envs\\style_env_4\\lib\\site-packages (from explainerdashboard) (1.4.1)\n",
      "Requirement already satisfied: joblib in c:\\users\\mwamba\\anaconda3\\envs\\style_env_4\\lib\\site-packages (from explainerdashboard) (1.1.0)\n",
      "Requirement already satisfied: jupyter-dash in c:\\users\\mwamba\\anaconda3\\envs\\style_env_4\\lib\\site-packages (from explainerdashboard) (0.4.2)\n",
      "Requirement already satisfied: Flask>=1.0.4 in c:\\users\\mwamba\\anaconda3\\envs\\style_env_4\\lib\\site-packages (from dash>=2.3.1->explainerdashboard) (2.2.2)\n",
      "Requirement already satisfied: dash-table==5.0.0 in c:\\users\\mwamba\\anaconda3\\envs\\style_env_4\\lib\\site-packages (from dash>=2.3.1->explainerdashboard) (5.0.0)\n",
      "Requirement already satisfied: dash-core-components==2.0.0 in c:\\users\\mwamba\\anaconda3\\envs\\style_env_4\\lib\\site-packages (from dash>=2.3.1->explainerdashboard) (2.0.0)\n",
      "Requirement already satisfied: dash-html-components==2.0.0 in c:\\users\\mwamba\\anaconda3\\envs\\style_env_4\\lib\\site-packages (from dash>=2.3.1->explainerdashboard) (2.0.0)\n",
      "Requirement already satisfied: plotly>=5.0.0 in c:\\users\\mwamba\\anaconda3\\envs\\style_env_4\\lib\\site-packages (from dash>=2.3.1->explainerdashboard) (5.11.0)\n",
      "Requirement already satisfied: pytest in c:\\users\\mwamba\\anaconda3\\envs\\style_env_4\\lib\\site-packages (from dtreeviz>=1.3->explainerdashboard) (7.2.0)\n",
      "Requirement already satisfied: matplotlib in c:\\users\\mwamba\\anaconda3\\envs\\style_env_4\\lib\\site-packages (from dtreeviz>=1.3->explainerdashboard) (3.5.2)\n",
      "Requirement already satisfied: colour in c:\\users\\mwamba\\anaconda3\\envs\\style_env_4\\lib\\site-packages (from dtreeviz>=1.3->explainerdashboard) (0.1.5)\n",
      "Requirement already satisfied: pytz>=2017.3 in c:\\users\\mwamba\\anaconda3\\envs\\style_env_4\\lib\\site-packages (from pandas>=1.1->explainerdashboard) (2022.1)\n",
      "Requirement already satisfied: python-dateutil>=2.7.3 in c:\\users\\mwamba\\anaconda3\\envs\\style_env_4\\lib\\site-packages (from pandas>=1.1->explainerdashboard) (2.8.2)\n",
      "Requirement already satisfied: threadpoolctl>=2.0.0 in c:\\users\\mwamba\\anaconda3\\envs\\style_env_4\\lib\\site-packages (from scikit-learn>=1.1->explainerdashboard) (3.1.0)\n",
      "Requirement already satisfied: scipy>=1.3.2 in c:\\users\\mwamba\\anaconda3\\envs\\style_env_4\\lib\\site-packages (from scikit-learn>=1.1->explainerdashboard) (1.8.1)\n",
      "Requirement already satisfied: tqdm>4.25.0 in c:\\users\\mwamba\\anaconda3\\envs\\style_env_4\\lib\\site-packages (from shap>=0.37->explainerdashboard) (4.64.0)\n",
      "Requirement already satisfied: numba in c:\\users\\mwamba\\anaconda3\\envs\\style_env_4\\lib\\site-packages (from shap>=0.37->explainerdashboard) (0.56.4)\n",
      "Requirement already satisfied: slicer==0.0.7 in c:\\users\\mwamba\\anaconda3\\envs\\style_env_4\\lib\\site-packages (from shap>=0.37->explainerdashboard) (0.0.7)\n",
      "Requirement already satisfied: packaging>20.9 in c:\\users\\mwamba\\anaconda3\\envs\\style_env_4\\lib\\site-packages (from shap>=0.37->explainerdashboard) (21.3)\n",
      "Requirement already satisfied: cloudpickle in c:\\users\\mwamba\\anaconda3\\envs\\style_env_4\\lib\\site-packages (from shap>=0.37->explainerdashboard) (2.2.0)\n",
      "Requirement already satisfied: colorama in c:\\users\\mwamba\\anaconda3\\envs\\style_env_4\\lib\\site-packages (from click->explainerdashboard) (0.4.5)\n",
      "Requirement already satisfied: ua-parser in c:\\users\\mwamba\\anaconda3\\envs\\style_env_4\\lib\\site-packages (from dash-auth->explainerdashboard) (0.16.1)\n",
      "Requirement already satisfied: retrying in c:\\users\\mwamba\\anaconda3\\envs\\style_env_4\\lib\\site-packages (from dash-auth->explainerdashboard) (1.3.4)\n",
      "Requirement already satisfied: flask-compress in c:\\users\\mwamba\\anaconda3\\envs\\style_env_4\\lib\\site-packages (from dash-auth->explainerdashboard) (1.13)\n",
      "Requirement already satisfied: requests in c:\\users\\mwamba\\anaconda3\\envs\\style_env_4\\lib\\site-packages (from dash-auth->explainerdashboard) (2.28.1)\n",
      "Requirement already satisfied: flask-seasurf in c:\\users\\mwamba\\anaconda3\\envs\\style_env_4\\lib\\site-packages (from dash-auth->explainerdashboard) (1.1.1)\n",
      "Requirement already satisfied: itsdangerous>=1.1.0 in c:\\users\\mwamba\\anaconda3\\envs\\style_env_4\\lib\\site-packages (from dash-auth->explainerdashboard) (2.1.2)\n",
      "Requirement already satisfied: chart-studio>=1.0.0 in c:\\users\\mwamba\\anaconda3\\envs\\style_env_4\\lib\\site-packages (from dash-auth->explainerdashboard) (1.1.0)\n",
      "Requirement already satisfied: WTForms>=2.1 in c:\\users\\mwamba\\anaconda3\\envs\\style_env_4\\lib\\site-packages (from flask-simplelogin->explainerdashboard) (3.0.1)\n",
      "Requirement already satisfied: Flask-WTF<0.16.0,>=0.15.1 in c:\\users\\mwamba\\anaconda3\\envs\\style_env_4\\lib\\site-packages (from flask-simplelogin->explainerdashboard) (0.15.1)\n",
      "Requirement already satisfied: ipython in c:\\users\\mwamba\\anaconda3\\envs\\style_env_4\\lib\\site-packages (from jupyter-dash->explainerdashboard) (8.4.0)\n",
      "Requirement already satisfied: nest-asyncio in c:\\users\\mwamba\\anaconda3\\envs\\style_env_4\\lib\\site-packages (from jupyter-dash->explainerdashboard) (1.5.5)\n",
      "Requirement already satisfied: ipykernel in c:\\users\\mwamba\\anaconda3\\envs\\style_env_4\\lib\\site-packages (from jupyter-dash->explainerdashboard) (6.15.1)\n",
      "Requirement already satisfied: ansi2html in c:\\users\\mwamba\\anaconda3\\envs\\style_env_4\\lib\\site-packages (from jupyter-dash->explainerdashboard) (1.8.0)\n",
      "Requirement already satisfied: pyyaml in c:\\users\\mwamba\\anaconda3\\envs\\style_env_4\\lib\\site-packages (from oyaml->explainerdashboard) (6.0)\n",
      "Requirement already satisfied: six in c:\\users\\mwamba\\anaconda3\\envs\\style_env_4\\lib\\site-packages (from chart-studio>=1.0.0->dash-auth->explainerdashboard) (1.16.0)\n",
      "Requirement already satisfied: importlib-metadata>=3.6.0 in c:\\users\\mwamba\\anaconda3\\envs\\style_env_4\\lib\\site-packages (from Flask>=1.0.4->dash>=2.3.1->explainerdashboard) (4.12.0)\n",
      "Requirement already satisfied: Werkzeug>=2.2.2 in c:\\users\\mwamba\\anaconda3\\envs\\style_env_4\\lib\\site-packages (from Flask>=1.0.4->dash>=2.3.1->explainerdashboard) (2.2.2)\n",
      "Requirement already satisfied: Jinja2>=3.0 in c:\\users\\mwamba\\anaconda3\\envs\\style_env_4\\lib\\site-packages (from Flask>=1.0.4->dash>=2.3.1->explainerdashboard) (3.1.2)\n",
      "Requirement already satisfied: pyparsing!=3.0.5,>=2.0.2 in c:\\users\\mwamba\\anaconda3\\envs\\style_env_4\\lib\\site-packages (from packaging>20.9->shap>=0.37->explainerdashboard) (3.0.9)\n",
      "Requirement already satisfied: tenacity>=6.2.0 in c:\\users\\mwamba\\anaconda3\\envs\\style_env_4\\lib\\site-packages (from plotly>=5.0.0->dash>=2.3.1->explainerdashboard) (8.1.0)\n",
      "Requirement already satisfied: MarkupSafe in c:\\users\\mwamba\\anaconda3\\envs\\style_env_4\\lib\\site-packages (from WTForms>=2.1->flask-simplelogin->explainerdashboard) (2.1.1)\n",
      "Requirement already satisfied: brotli in c:\\users\\mwamba\\anaconda3\\envs\\style_env_4\\lib\\site-packages (from flask-compress->dash-auth->explainerdashboard) (1.0.9)\n",
      "Requirement already satisfied: psutil in c:\\users\\mwamba\\anaconda3\\envs\\style_env_4\\lib\\site-packages (from ipykernel->jupyter-dash->explainerdashboard) (5.9.1)\n",
      "Requirement already satisfied: pyzmq>=17 in c:\\users\\mwamba\\anaconda3\\envs\\style_env_4\\lib\\site-packages (from ipykernel->jupyter-dash->explainerdashboard) (23.2.0)\n",
      "Requirement already satisfied: traitlets>=5.1.0 in c:\\users\\mwamba\\anaconda3\\envs\\style_env_4\\lib\\site-packages (from ipykernel->jupyter-dash->explainerdashboard) (5.3.0)\n",
      "Requirement already satisfied: matplotlib-inline>=0.1 in c:\\users\\mwamba\\anaconda3\\envs\\style_env_4\\lib\\site-packages (from ipykernel->jupyter-dash->explainerdashboard) (0.1.3)\n",
      "Requirement already satisfied: jupyter-client>=6.1.12 in c:\\users\\mwamba\\anaconda3\\envs\\style_env_4\\lib\\site-packages (from ipykernel->jupyter-dash->explainerdashboard) (7.3.4)\n",
      "Requirement already satisfied: tornado>=6.1 in c:\\users\\mwamba\\anaconda3\\envs\\style_env_4\\lib\\site-packages (from ipykernel->jupyter-dash->explainerdashboard) (6.2)\n",
      "Requirement already satisfied: debugpy>=1.0 in c:\\users\\mwamba\\anaconda3\\envs\\style_env_4\\lib\\site-packages (from ipykernel->jupyter-dash->explainerdashboard) (1.6.0)\n",
      "Requirement already satisfied: pickleshare in c:\\users\\mwamba\\anaconda3\\envs\\style_env_4\\lib\\site-packages (from ipython->jupyter-dash->explainerdashboard) (0.7.5)\n",
      "Requirement already satisfied: prompt-toolkit!=3.0.0,!=3.0.1,<3.1.0,>=2.0.0 in c:\\users\\mwamba\\anaconda3\\envs\\style_env_4\\lib\\site-packages (from ipython->jupyter-dash->explainerdashboard) (3.0.30)\n",
      "Requirement already satisfied: jedi>=0.16 in c:\\users\\mwamba\\anaconda3\\envs\\style_env_4\\lib\\site-packages (from ipython->jupyter-dash->explainerdashboard) (0.18.1)\n",
      "Requirement already satisfied: backcall in c:\\users\\mwamba\\anaconda3\\envs\\style_env_4\\lib\\site-packages (from ipython->jupyter-dash->explainerdashboard) (0.2.0)\n",
      "Requirement already satisfied: pygments>=2.4.0 in c:\\users\\mwamba\\anaconda3\\envs\\style_env_4\\lib\\site-packages (from ipython->jupyter-dash->explainerdashboard) (2.12.0)\n",
      "Requirement already satisfied: setuptools>=18.5 in c:\\users\\mwamba\\anaconda3\\envs\\style_env_4\\lib\\site-packages (from ipython->jupyter-dash->explainerdashboard) (61.2.0)\n",
      "Requirement already satisfied: stack-data in c:\\users\\mwamba\\anaconda3\\envs\\style_env_4\\lib\\site-packages (from ipython->jupyter-dash->explainerdashboard) (0.3.0)\n",
      "Requirement already satisfied: decorator in c:\\users\\mwamba\\anaconda3\\envs\\style_env_4\\lib\\site-packages (from ipython->jupyter-dash->explainerdashboard) (5.1.1)\n",
      "Requirement already satisfied: pillow>=6.2.0 in c:\\users\\mwamba\\anaconda3\\envs\\style_env_4\\lib\\site-packages (from matplotlib->dtreeviz>=1.3->explainerdashboard) (9.2.0)\n",
      "Requirement already satisfied: fonttools>=4.22.0 in c:\\users\\mwamba\\anaconda3\\envs\\style_env_4\\lib\\site-packages (from matplotlib->dtreeviz>=1.3->explainerdashboard) (4.34.4)\n",
      "Requirement already satisfied: kiwisolver>=1.0.1 in c:\\users\\mwamba\\anaconda3\\envs\\style_env_4\\lib\\site-packages (from matplotlib->dtreeviz>=1.3->explainerdashboard) (1.4.4)\n",
      "Requirement already satisfied: cycler>=0.10 in c:\\users\\mwamba\\anaconda3\\envs\\style_env_4\\lib\\site-packages (from matplotlib->dtreeviz>=1.3->explainerdashboard) (0.11.0)\n",
      "Requirement already satisfied: llvmlite<0.40,>=0.39.0dev0 in c:\\users\\mwamba\\anaconda3\\envs\\style_env_4\\lib\\site-packages (from numba->shap>=0.37->explainerdashboard) (0.39.1)\n",
      "Requirement already satisfied: exceptiongroup>=1.0.0rc8 in c:\\users\\mwamba\\anaconda3\\envs\\style_env_4\\lib\\site-packages (from pytest->dtreeviz>=1.3->explainerdashboard) (1.0.4)\n",
      "Requirement already satisfied: iniconfig in c:\\users\\mwamba\\anaconda3\\envs\\style_env_4\\lib\\site-packages (from pytest->dtreeviz>=1.3->explainerdashboard) (1.1.1)\n",
      "Requirement already satisfied: tomli>=1.0.0 in c:\\users\\mwamba\\anaconda3\\envs\\style_env_4\\lib\\site-packages (from pytest->dtreeviz>=1.3->explainerdashboard) (2.0.1)\n",
      "Requirement already satisfied: pluggy<2.0,>=0.12 in c:\\users\\mwamba\\anaconda3\\envs\\style_env_4\\lib\\site-packages (from pytest->dtreeviz>=1.3->explainerdashboard) (1.0.0)\n",
      "Requirement already satisfied: attrs>=19.2.0 in c:\\users\\mwamba\\anaconda3\\envs\\style_env_4\\lib\\site-packages (from pytest->dtreeviz>=1.3->explainerdashboard) (22.1.0)\n",
      "Requirement already satisfied: charset-normalizer<3,>=2 in c:\\users\\mwamba\\anaconda3\\envs\\style_env_4\\lib\\site-packages (from requests->dash-auth->explainerdashboard) (2.1.0)\n",
      "Requirement already satisfied: idna<4,>=2.5 in c:\\users\\mwamba\\anaconda3\\envs\\style_env_4\\lib\\site-packages (from requests->dash-auth->explainerdashboard) (3.3)\n",
      "Requirement already satisfied: urllib3<1.27,>=1.21.1 in c:\\users\\mwamba\\anaconda3\\envs\\style_env_4\\lib\\site-packages (from requests->dash-auth->explainerdashboard) (1.26.10)\n",
      "Requirement already satisfied: certifi>=2017.4.17 in c:\\users\\mwamba\\anaconda3\\envs\\style_env_4\\lib\\site-packages (from requests->dash-auth->explainerdashboard) (2022.6.15)\n",
      "Requirement already satisfied: zipp>=0.5 in c:\\users\\mwamba\\anaconda3\\envs\\style_env_4\\lib\\site-packages (from importlib-metadata>=3.6.0->Flask>=1.0.4->dash>=2.3.1->explainerdashboard) (3.8.1)\n",
      "Requirement already satisfied: parso<0.9.0,>=0.8.0 in c:\\users\\mwamba\\anaconda3\\envs\\style_env_4\\lib\\site-packages (from jedi>=0.16->ipython->jupyter-dash->explainerdashboard) (0.8.3)\n",
      "Requirement already satisfied: entrypoints in c:\\users\\mwamba\\anaconda3\\envs\\style_env_4\\lib\\site-packages (from jupyter-client>=6.1.12->ipykernel->jupyter-dash->explainerdashboard) (0.4)\n",
      "Requirement already satisfied: jupyter-core>=4.9.2 in c:\\users\\mwamba\\anaconda3\\envs\\style_env_4\\lib\\site-packages (from jupyter-client>=6.1.12->ipykernel->jupyter-dash->explainerdashboard) (4.10.0)\n",
      "Requirement already satisfied: wcwidth in c:\\users\\mwamba\\anaconda3\\envs\\style_env_4\\lib\\site-packages (from prompt-toolkit!=3.0.0,!=3.0.1,<3.1.0,>=2.0.0->ipython->jupyter-dash->explainerdashboard) (0.2.5)\n",
      "Requirement already satisfied: executing in c:\\users\\mwamba\\anaconda3\\envs\\style_env_4\\lib\\site-packages (from stack-data->ipython->jupyter-dash->explainerdashboard) (0.8.3)\n",
      "Requirement already satisfied: asttokens in c:\\users\\mwamba\\anaconda3\\envs\\style_env_4\\lib\\site-packages (from stack-data->ipython->jupyter-dash->explainerdashboard) (2.0.5)\n",
      "Requirement already satisfied: pure-eval in c:\\users\\mwamba\\anaconda3\\envs\\style_env_4\\lib\\site-packages (from stack-data->ipython->jupyter-dash->explainerdashboard) (0.2.2)\n",
      "Requirement already satisfied: pywin32>=1.0 in c:\\users\\mwamba\\anaconda3\\envs\\style_env_4\\lib\\site-packages (from jupyter-core>=4.9.2->jupyter-client>=6.1.12->ipykernel->jupyter-dash->explainerdashboard) (303)\n"
     ]
    }
   ],
   "source": [
    "# Install explainer Dashboard package\n",
    "!pip install explainerdashboard"
   ]
  },
  {
   "cell_type": "markdown",
   "metadata": {},
   "source": [
    "# 2. Importing Libraries and packages"
   ]
  },
  {
   "cell_type": "code",
   "execution_count": 2,
   "metadata": {},
   "outputs": [
    {
     "name": "stderr",
     "output_type": "stream",
     "text": [
      "C:\\Users\\MWAMBA\\anaconda3\\envs\\style_env_4\\lib\\site-packages\\tqdm\\auto.py:22: TqdmWarning: IProgress not found. Please update jupyter and ipywidgets. See https://ipywidgets.readthedocs.io/en/stable/user_install.html\n",
      "  from .autonotebook import tqdm as notebook_tqdm\n"
     ]
    }
   ],
   "source": [
    "# Importing Libraries and packages\n",
    "import pandas as pd\n",
    "import numpy as np\n",
    "from sklearn.ensemble import RandomForestClassifier\n",
    "from explainerdashboard import ClassifierExplainer, ExplainerDashboard\n",
    "\n",
    "import dash_bootstrap_components as dbc \n",
    "from sklearn.model_selection import  train_test_split"
   ]
  },
  {
   "cell_type": "markdown",
   "metadata": {},
   "source": [
    "# 3. Importing the Dataset"
   ]
  },
  {
   "cell_type": "code",
   "execution_count": 3,
   "metadata": {},
   "outputs": [],
   "source": [
    "from explainerdashboard.datasets import titanic_survive\n",
    "\n",
    "X_train, y_train, X_test, y_test = titanic_survive()"
   ]
  },
  {
   "cell_type": "code",
   "execution_count": 4,
   "metadata": {},
   "outputs": [
    {
     "name": "stdout",
     "output_type": "stream",
     "text": [
      "x_train shape: (691, 21)\n",
      "y_train shape: (691,)\n",
      "x_test shape: (200, 21)\n",
      "y_test shape: (200,)\n"
     ]
    }
   ],
   "source": [
    "print(f\"x_train shape: {X_train.shape}\")\n",
    "print(f\"y_train shape: {y_train.shape}\")\n",
    "print(f\"x_test shape: {X_test.shape}\")\n",
    "print(f\"y_test shape: {y_test.shape}\")"
   ]
  },
  {
   "cell_type": "markdown",
   "metadata": {},
   "source": [
    "# 4. Building The Model"
   ]
  },
  {
   "cell_type": "code",
   "execution_count": 5,
   "metadata": {},
   "outputs": [
    {
     "name": "stdout",
     "output_type": "stream",
     "text": [
      "Detected RandomForestClassifier model: Changing class type to RandomForestClassifierExplainer...\n",
      "Note: model_output=='probability', so assuming that raw shap output of RandomForestClassifier is in probability space...\n",
      "Generating self.shap_explainer = shap.TreeExplainer(model)\n"
     ]
    }
   ],
   "source": [
    "model = RandomForestClassifier(n_estimators=50, max_depth=5)\n",
    "\n",
    "model.fit(X_train, y_train)\n",
    "\n",
    "\n",
    "explainer = ClassifierExplainer(\n",
    "    model,\n",
    "    X_test, y_test,\n",
    "    # Optional\n",
    "    cats = ['Sex', 'Deck', 'Embarked'],\n",
    "    labels=['Not survived', 'Survived']\n",
    ")"
   ]
  },
  {
   "cell_type": "markdown",
   "metadata": {},
   "source": [
    "# 5. Making the Dashboard"
   ]
  },
  {
   "cell_type": "code",
   "execution_count": 6,
   "metadata": {},
   "outputs": [
    {
     "name": "stdout",
     "output_type": "stream",
     "text": [
      "Building ExplainerDashboard..\n",
      "Detected notebook environment, consider setting mode='external', mode='inline' or mode='jupyterlab' to keep the notebook interactive while the dashboard is running...\n",
      "Generating layout...\n",
      "Calculating shap values...\n",
      "Calculating prediction probabilities...\n",
      "Calculating metrics...\n",
      "Calculating confusion matrices...\n",
      "Calculating classification_dfs...\n",
      "Calculating roc auc curves...\n",
      "Calculating pr auc curves...\n",
      "Calculating liftcurve_dfs...\n",
      "Calculating dependencies...\n",
      "Calculating permutation importances (if slow, try setting n_jobs parameter)...\n",
      "Calculating predictions...\n",
      "Calculating pred_percentiles...\n",
      "Reminder: you can store the explainer (including calculated dependencies) with explainer.dump('explainer.joblib') and reload with e.g. ClassifierExplainer.from_file('explainer.joblib')\n",
      "Registering callbacks...\n",
      "Starting ExplainerDashboard on http://40.40.40.9:8051\n",
      "Dash is running on http://0.0.0.0:8051/\n",
      "\n",
      " * Serving Flask app 'explainerdashboard.dashboards'\n",
      " * Debug mode: off\n"
     ]
    },
    {
     "name": "stderr",
     "output_type": "stream",
     "text": [
      "WARNING: This is a development server. Do not use it in a production deployment. Use a production WSGI server instead.\n",
      " * Running on all addresses (0.0.0.0)\n",
      " * Running on http://127.0.0.1:8051\n",
      " * Running on http://40.40.40.9:8051\n",
      "Press CTRL+C to quit\n"
     ]
    }
   ],
   "source": [
    "db = ExplainerDashboard(explainer, title='Explainable AI for Titanic', whatif=False, shap_interaction=False, decision_trees=False)\n",
    "\n",
    "db.run(port=8051)"
   ]
  }
 ],
 "metadata": {
  "interpreter": {
   "hash": "ebb17c082e039854047af9336a8363a3e8050eb7be2771bd09040f481773f6ec"
  },
  "kernelspec": {
   "display_name": "Python 3.8.13 ('style_env_4')",
   "language": "python",
   "name": "python3"
  },
  "language_info": {
   "codemirror_mode": {
    "name": "ipython",
    "version": 3
   },
   "file_extension": ".py",
   "mimetype": "text/x-python",
   "name": "python",
   "nbconvert_exporter": "python",
   "pygments_lexer": "ipython3",
   "version": "3.8.13"
  },
  "orig_nbformat": 4
 },
 "nbformat": 4,
 "nbformat_minor": 2
}
